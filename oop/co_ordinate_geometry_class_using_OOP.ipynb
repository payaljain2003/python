{
  "nbformat": 4,
  "nbformat_minor": 0,
  "metadata": {
    "colab": {
      "provenance": []
    },
    "kernelspec": {
      "name": "python3",
      "display_name": "Python 3"
    },
    "language_info": {
      "name": "python"
    }
  },
  "cells": [
    {
      "cell_type": "markdown",
      "source": [
        "\n",
        "OOP class to handle the following scenarios:\n",
        "1. A user can create and view 2D coordinates\n",
        "2. A user can find out the distance between 2 coordinates\n",
        "3. A user can find the distance of a coordinate from the origin\n",
        "4. A user can check if a point lies on a given line\n",
        "5. A user can find distance between a given 2D point and a given line"
      ],
      "metadata": {
        "id": "5BYKkVW2pjM-"
      }
    },
    {
      "cell_type": "code",
      "source": [
        "class Point:\n",
        "\n",
        "  def __init__(self, x, y):\n",
        "    self.x_cod = x\n",
        "    self.y_cod = y\n",
        "\n",
        "  def __str__(self) :\n",
        "    return '<{},{}>'.format(self.x_cod, self.y_cod)\n",
        "\n",
        "  def euclidean_distance(self, other):\n",
        "    return ((other.x_cod - self.x_cod)**2 + (other.y_cod - self.y_cod)**2)**0.5\n",
        "\n",
        "  def distance_from_origin(self):\n",
        "    return self.euclidean_distance(Point(0,0))\n",
        "\n",
        "class Line:\n",
        "\n",
        "  def __init__(self,A,B,C):\n",
        "    self.A = A\n",
        "    self.B = B\n",
        "    self.C = C\n",
        "\n",
        "  def __str__(self):\n",
        "    return '{}x + {}y + {} = 0'.format(self.A,self.B,self.C)\n",
        "\n",
        "  def point_on_line(line,point):\n",
        "    if line.A * point.x_cod + line.B * point.y_cod + line.C == 0:\n",
        "      return 'Line pe hai'\n",
        "    else:\n",
        "      return ' Line pe nahi hai line pe lao isko'\n",
        "\n",
        "  def shortest_distance(line,point):\n",
        "    return abs(line.A * point.x_cod + line.B * point.y_cod + line.C)/(line.A**2 + line.B**2)**0.5"
      ],
      "metadata": {
        "id": "IOuzaT4yqKmI"
      },
      "execution_count": 32,
      "outputs": []
    },
    {
      "cell_type": "code",
      "source": [
        "#creation of 2D points\n",
        "\n",
        "pt1 = Point(3,2)\n",
        "print (pt1)\n",
        "pt2 = Point(-4,5)\n",
        "print (pt2)\n"
      ],
      "metadata": {
        "colab": {
          "base_uri": "https://localhost:8080/"
        },
        "id": "4ePEHooqqU-I",
        "outputId": "ee1c90e9-39c3-4b1b-e880-00663fe30e9f"
      },
      "execution_count": 14,
      "outputs": [
        {
          "output_type": "stream",
          "name": "stdout",
          "text": [
            "<3,2>\n",
            "<-4,5>\n"
          ]
        }
      ]
    },
    {
      "cell_type": "code",
      "source": [
        "#find distnace between two points\n",
        "\n",
        "#creation of 2D points\n",
        "\n",
        "pt3 = Point(0,0)\n",
        "print (pt3)\n",
        "pt4 = Point(1,1)\n",
        "print (pt4)\n",
        "\n",
        "pt3.euclidean_distance(pt4)\n"
      ],
      "metadata": {
        "colab": {
          "base_uri": "https://localhost:8080/"
        },
        "id": "74mKDG3or2zV",
        "outputId": "edef4aee-3ec9-46bb-ba54-111e2ddd1b83"
      },
      "execution_count": 20,
      "outputs": [
        {
          "output_type": "stream",
          "name": "stdout",
          "text": [
            "<0,0>\n",
            "<1,1>\n"
          ]
        },
        {
          "output_type": "execute_result",
          "data": {
            "text/plain": [
              "1.4142135623730951"
            ]
          },
          "metadata": {},
          "execution_count": 20
        }
      ]
    },
    {
      "cell_type": "code",
      "source": [
        "#find the distance of a point from origin\n",
        "pt5 = Point(1,1)\n",
        "pt5.distance_from_origin()"
      ],
      "metadata": {
        "colab": {
          "base_uri": "https://localhost:8080/"
        },
        "id": "FNI74nQntwO3",
        "outputId": "03612d33-ce4b-425b-b364-b3603e591bd6"
      },
      "execution_count": 22,
      "outputs": [
        {
          "output_type": "execute_result",
          "data": {
            "text/plain": [
              "1.4142135623730951"
            ]
          },
          "metadata": {},
          "execution_count": 22
        }
      ]
    },
    {
      "cell_type": "code",
      "source": [
        "#create a line\n",
        "l1 = Line(2,3,4)\n",
        "print(l1)"
      ],
      "metadata": {
        "colab": {
          "base_uri": "https://localhost:8080/"
        },
        "id": "665XCBklvYM3",
        "outputId": "97c6bfce-681b-41e7-e906-94cedd41b3eb"
      },
      "execution_count": 25,
      "outputs": [
        {
          "output_type": "stream",
          "name": "stdout",
          "text": [
            "2x+3y+4=0\n"
          ]
        }
      ]
    },
    {
      "cell_type": "code",
      "source": [
        "# to check if a given point lies on a given line\n",
        "l2 = Line(1,1,-2)\n",
        "pt6 = Point(1,1)\n",
        "\n",
        "print (l2)\n",
        "print (pt6)\n",
        "\n",
        "l2.point_on_line(pt6)\n",
        "\n",
        "pt7 = Point(1,2)\n",
        "print (l2)\n",
        "print (pt7)\n",
        "\n",
        "l2.point_on_line(pt7)"
      ],
      "metadata": {
        "colab": {
          "base_uri": "https://localhost:8080/",
          "height": 105
        },
        "id": "fSzB16AKuhIq",
        "outputId": "815e522b-7813-41d0-8b9e-210fc05b4096"
      },
      "execution_count": 30,
      "outputs": [
        {
          "output_type": "stream",
          "name": "stdout",
          "text": [
            "1x + 1y + -2 = 0\n",
            "<1,1>\n",
            "1x + 1y + -2 = 0\n",
            "<1,2>\n"
          ]
        },
        {
          "output_type": "execute_result",
          "data": {
            "text/plain": [
              "' Line pe nahi hai line pe lao isko'"
            ],
            "application/vnd.google.colaboratory.intrinsic+json": {
              "type": "string"
            }
          },
          "metadata": {},
          "execution_count": 30
        }
      ]
    },
    {
      "cell_type": "code",
      "source": [
        "#shortest distance of a line and a point\n",
        "\n",
        "l2 = Line(1,1,-2)\n",
        "pt6 = Point(1,1)\n",
        "\n",
        "l2.shortest_distance(pt6)\n",
        "\n",
        "l3 = Line(1,1,-2)\n",
        "pt7 = Point(1,10)\n",
        "\n",
        "l3.shortest_distance(pt7)"
      ],
      "metadata": {
        "colab": {
          "base_uri": "https://localhost:8080/"
        },
        "id": "bb04fTPQxQfu",
        "outputId": "4f0e23be-68c5-4ca8-f3cd-8fcd01c191c0"
      },
      "execution_count": 34,
      "outputs": [
        {
          "output_type": "execute_result",
          "data": {
            "text/plain": [
              "6.363961030678928"
            ]
          },
          "metadata": {},
          "execution_count": 34
        }
      ]
    }
  ]
}