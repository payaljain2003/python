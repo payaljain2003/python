{
  "nbformat": 4,
  "nbformat_minor": 0,
  "metadata": {
    "colab": {
      "provenance": []
    },
    "kernelspec": {
      "name": "python3",
      "display_name": "Python 3"
    },
    "language_info": {
      "name": "python"
    }
  },
  "cells": [
    {
      "cell_type": "markdown",
      "source": [
        "A simple ATM application that allows user to create pin, change pin, know balance, withdraw money;  using OOPs concept"
      ],
      "metadata": {
        "id": "Ez-pGRez1v_V"
      }
    },
    {
      "cell_type": "code",
      "source": [
        "class ATM:\n",
        "\n",
        "  def __init__(self):\n",
        "    self.pin = ''\n",
        "    self.balance = 0\n",
        "    self.menu()\n",
        "\n",
        "  def menu(self):\n",
        "    user_input = input(\"\"\"\n",
        "    Hi...How Can I help you?\n",
        "    1. Press 1 to create PIN\n",
        "    2. Press 2 to change PIN\n",
        "    3. Press 3 to chack balance\n",
        "    4. Press 4 to withdraw\n",
        "    5. Anything else to exit  \n",
        "    \"\"\")\n",
        "\n",
        "    if user_input == '1':\n",
        "      print('flow is here')\n",
        "      #create pin\n",
        "      self.create_pin()\n",
        "    elif user_input == '2':\n",
        "      #change pin\n",
        "      self.change_pin()\n",
        "    elif user_input == '3':\n",
        "      #check balance\n",
        "      self.check_balance()\n",
        "    elif user_input == '4':\n",
        "      #withdraw\n",
        "      self.withdraw()\n",
        "    else:\n",
        "      exit()\n",
        "\n",
        "  def create_pin(self):\n",
        "    user_pin = input('Enter your PIN')\n",
        "    self.pin = user_pin\n",
        "\n",
        "    user_balance = int(input('Enter your initial balance'))\n",
        "    self.balance = user_balance\n",
        "\n",
        "    print('PIN created successfully!!!')\n",
        "    self.menu()\n",
        "\n",
        "  def change_pin(self):\n",
        "    old_pin = input('Enter your old PIN')\n",
        "    if old_pin == self.pin:\n",
        "      #change the pin\n",
        "      new_pin = input('Enter new PIN')\n",
        "      self.pin = new_pin\n",
        "      print('PIN changed succesame 'ATM' is not defisfully!!!')\n",
        "    else:\n",
        "      print(\"You seem to have forgotten your old pin or have stolen someone else's card!!\")\n",
        "    self.menu()\n",
        "\n",
        "  def check_balance(self):\n",
        "    pin = input('Enter your PIN to proceed')\n",
        "    if pin == self.pin:\n",
        "      print(\"Your Acc balance is INR: \",self.balance)\n",
        "    else:\n",
        "      print('Incorrect PIN')\n",
        "    self.menu()\n",
        "\n",
        "  def withdraw(self):\n",
        "    pin = input('Enter your PIN to proceed')\n",
        "    if pin == self.pin:\n",
        "      withdraw_amount = int(input('Enter the amount you want to withdraw'))\n",
        "      if withdraw_amount < self.balance : \n",
        "        self.balance = self.balance - withdraw_amount\n",
        "        print(\"Withdrawal successfull!!!\")\n",
        "        print(\"Your new balance is INR: \", self.balance)\n",
        "      else:\n",
        "        print('Insufficient balance!!!')\n",
        "    else:\n",
        "      print('Incorrect PIN')\n",
        "    self.menu()  \n"
      ],
      "metadata": {
        "id": "T8J_hPlL16p2"
      },
      "execution_count": 2,
      "outputs": []
    },
    {
      "cell_type": "code",
      "source": [
        "atm=ATM()"
      ],
      "metadata": {
        "colab": {
          "base_uri": "https://localhost:8080/"
        },
        "id": "7LtelgHz3AsC",
        "outputId": "b2092fdc-5a22-445a-d0fa-0d1f833e8a8c"
      },
      "execution_count": 3,
      "outputs": [
        {
          "name": "stdout",
          "output_type": "stream",
          "text": [
            "\n",
            "    Hi...How Can I help you?\n",
            "    1. Press 1 to create PIN\n",
            "    2. Press 2 to change PIN\n",
            "    3. Press 3 to chack balance\n",
            "    4. Press 4 to withdraw\n",
            "    5. Anything else to exit  \n",
            "    4\n",
            "Enter your PIN to proceed1234\n",
            "Incorrect PIN\n",
            "\n",
            "    Hi...How Can I help you?\n",
            "    1. Press 1 to create PIN\n",
            "    2. Press 2 to change PIN\n",
            "    3. Press 3 to chack balance\n",
            "    4. Press 4 to withdraw\n",
            "    5. Anything else to exit  \n",
            "    1\n",
            "flow is here\n",
            "Enter your PIN1234\n",
            "Enter your initial balance10000\n",
            "PIN created successfully!!!\n",
            "\n",
            "    Hi...How Can I help you?\n",
            "    1. Press 1 to create PIN\n",
            "    2. Press 2 to change PIN\n",
            "    3. Press 3 to chack balance\n",
            "    4. Press 4 to withdraw\n",
            "    5. Anything else to exit  \n",
            "    4\n",
            "Enter your PIN to proceed1234\n",
            "Enter the amount you want to withdraw6000\n",
            "Withdrawal successfull!!!\n",
            "Your new balance is INR:  4000\n",
            "\n",
            "    Hi...How Can I help you?\n",
            "    1. Press 1 to create PIN\n",
            "    2. Press 2 to change PIN\n",
            "    3. Press 3 to chack balance\n",
            "    4. Press 4 to withdraw\n",
            "    5. Anything else to exit  \n",
            "    7\n"
          ]
        }
      ]
    }
  ]
}