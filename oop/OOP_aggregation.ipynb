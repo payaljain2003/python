{
  "nbformat": 4,
  "nbformat_minor": 0,
  "metadata": {
    "colab": {
      "provenance": [],
      "authorship_tag": "ABX9TyMQ4YAcsP+F7eAIJjNuyn9t",
      "include_colab_link": true
    },
    "kernelspec": {
      "name": "python3",
      "display_name": "Python 3"
    },
    "language_info": {
      "name": "python"
    }
  },
  "cells": [
    {
      "cell_type": "markdown",
      "metadata": {
        "id": "view-in-github",
        "colab_type": "text"
      },
      "source": [
        "<a href=\"https://colab.research.google.com/github/payaljain2003/python/blob/main/oop/OOP_aggregation.ipynb\" target=\"_parent\"><img src=\"https://colab.research.google.com/assets/colab-badge.svg\" alt=\"Open In Colab\"/></a>"
      ]
    },
    {
      "cell_type": "markdown",
      "source": [
        "Example to understand Aggregation\n",
        "\n",
        "Aggregation - When classes 'Has A' relationship. Eg - Restaurant has a menu, so there will be two classes- Restaurant and Menu. Another example is Customer has a address, the two classes being Customer and Address"
      ],
      "metadata": {
        "id": "DkKDjsGxD-7n"
      }
    },
    {
      "cell_type": "code",
      "source": [
        "class Customer:\n",
        "\n",
        "  def __init__(self, name, gender, address):\n",
        "    self.name = name\n",
        "    self.gender = gender\n",
        "    self.address = address\n",
        "\n",
        "  def print_address(self):\n",
        "    print(self.address.get_city(), self.address.pin, self.address.state)\n",
        "\n",
        "  def edit_profile(self, new_name, new_city, new_pin, new_state):\n",
        "    self.name = new_name\n",
        "    self.address.edit_address(new_city, new_pin, new_state)\n",
        "\n",
        "class Address:\n",
        "\n",
        "  def __init__(self,city,pin,state):\n",
        "    self.__city = city\n",
        "    self.pin = pin\n",
        "    self.state = state\n",
        "\n",
        "  def get_city(self):\n",
        "    return self.__city\n",
        "\n",
        "  def edit_address(self, new_city, new_pin, new_state):\n",
        "    self.__city = new_city\n",
        "    self.pin = new_pin\n",
        "    self.state = new_state\n"
      ],
      "metadata": {
        "id": "aJst4PpYEjuD"
      },
      "execution_count": 22,
      "outputs": []
    },
    {
      "cell_type": "code",
      "source": [
        "add1 = Address('NOIDA','311001','U.P.')\n",
        "#print(add1._Address__city, add1.pin, add1.state) #acess private variable using class name"
      ],
      "metadata": {
        "id": "Nn5btUI5IRtG"
      },
      "execution_count": 23,
      "outputs": []
    },
    {
      "cell_type": "code",
      "source": [
        "cust1 = Customer('Payal','Female',add1)\n",
        "#print(cust1.name, cust1.gender , cust1.address.city)\n",
        "cust1.print_address()\n",
        "\n",
        "cust1.edit_profile('Ankit','Mumbai','111111','Maharashtra')\n",
        "print(cust1.name)\n",
        "cust1.print_address()"
      ],
      "metadata": {
        "colab": {
          "base_uri": "https://localhost:8080/"
        },
        "id": "QW3s9BLqIbOu",
        "outputId": "54e139da-3c16-4912-fb8d-a17279c375d6"
      },
      "execution_count": 24,
      "outputs": [
        {
          "output_type": "stream",
          "name": "stdout",
          "text": [
            "NOIDA 311001 U.P.\n",
            "Ankit\n",
            "Mumbai 111111 Maharashtra\n"
          ]
        }
      ]
    }
  ]
}