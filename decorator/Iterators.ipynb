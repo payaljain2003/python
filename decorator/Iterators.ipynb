{
  "nbformat": 4,
  "nbformat_minor": 0,
  "metadata": {
    "colab": {
      "provenance": [],
      "authorship_tag": "ABX9TyN2dL+baHDXpraXTeHg104j",
      "include_colab_link": true
    },
    "kernelspec": {
      "name": "python3",
      "display_name": "Python 3"
    },
    "language_info": {
      "name": "python"
    }
  },
  "cells": [
    {
      "cell_type": "markdown",
      "metadata": {
        "id": "view-in-github",
        "colab_type": "text"
      },
      "source": [
        "<a href=\"https://colab.research.google.com/github/payaljain2003/python/blob/main/decorator/Iterators.ipynb\" target=\"_parent\"><img src=\"https://colab.research.google.com/assets/colab-badge.svg\" alt=\"Open In Colab\"/></a>"
      ]
    },
    {
      "cell_type": "code",
      "execution_count": 1,
      "metadata": {
        "colab": {
          "base_uri": "https://localhost:8080/"
        },
        "id": "f6_CIabTMnUM",
        "outputId": "b2049e9f-4200-4640-9c08-ede6508579ea"
      },
      "outputs": [
        {
          "output_type": "stream",
          "name": "stdout",
          "text": [
            "8697456\n"
          ]
        }
      ],
      "source": [
        "import sys\n",
        "L=[x for x in range(1,1000000)]\n",
        "\n",
        "\n",
        "print(sys.getsizeof(L))"
      ]
    },
    {
      "cell_type": "code",
      "source": [
        "x = range(1,1000000)\n",
        "print(sys.getsizeof(x))"
      ],
      "metadata": {
        "colab": {
          "base_uri": "https://localhost:8080/"
        },
        "id": "0XaJDcY7NAo1",
        "outputId": "d2c8593c-c97f-4d80-d498-815063f57a9d"
      },
      "execution_count": 2,
      "outputs": [
        {
          "output_type": "stream",
          "name": "stdout",
          "text": [
            "48\n"
          ]
        }
      ]
    },
    {
      "cell_type": "code",
      "source": [
        "num = [1,2,3]\n",
        "\n",
        "iter_num = iter(num)\n",
        "next(iter_num)\n",
        "next(iter_num)\n",
        "next(iter_num)"
      ],
      "metadata": {
        "colab": {
          "base_uri": "https://localhost:8080/"
        },
        "id": "Zgh1OHFEn2UP",
        "outputId": "d1ed818d-a934-446c-e818-c2978399e7fd"
      },
      "execution_count": 10,
      "outputs": [
        {
          "output_type": "execute_result",
          "data": {
            "text/plain": [
              "3"
            ]
          },
          "metadata": {},
          "execution_count": 10
        }
      ]
    },
    {
      "cell_type": "markdown",
      "source": [
        "#**My own for loop function**"
      ],
      "metadata": {
        "id": "PyKKW992iT98"
      }
    },
    {
      "cell_type": "code",
      "source": [
        "def my_own_for_loop(iterable):\n",
        "  iterator = iter(iterable)\n",
        "  while True:\n",
        "    try:\n",
        "      print(next(iterator))   \n",
        "    except StopIteration:\n",
        "      break\n",
        "\n"
      ],
      "metadata": {
        "id": "gDiYWZM9oGxD"
      },
      "execution_count": 4,
      "outputs": []
    },
    {
      "cell_type": "code",
      "source": [
        "a= [1,2,3]\n",
        "b=range(1,11)\n",
        "c=(1,2,3)\n",
        "d={1,2,3}\n",
        "e={0:1,1:1}\n",
        "\n",
        "my_own_for_loop(a)\n",
        "my_own_for_loop(b)\n",
        "my_own_for_loop(c)\n",
        "my_own_for_loop(d)\n",
        "my_own_for_loop(e)"
      ],
      "metadata": {
        "colab": {
          "base_uri": "https://localhost:8080/"
        },
        "id": "ZbUwYzXlplrc",
        "outputId": "ee562e9a-7f98-4a58-939e-13e441a29657"
      },
      "execution_count": 5,
      "outputs": [
        {
          "output_type": "stream",
          "name": "stdout",
          "text": [
            "1\n",
            "2\n",
            "3\n",
            "1\n",
            "2\n",
            "3\n",
            "4\n",
            "5\n",
            "6\n",
            "7\n",
            "8\n",
            "9\n",
            "10\n",
            "1\n",
            "2\n",
            "3\n",
            "1\n",
            "2\n",
            "3\n",
            "0\n",
            "1\n"
          ]
        }
      ]
    },
    {
      "cell_type": "markdown",
      "source": [
        "#**My own range class**"
      ],
      "metadata": {
        "id": "c_eRspchifOz"
      }
    },
    {
      "cell_type": "code",
      "source": [
        "class my_range:\n",
        "\n",
        "  def __init__(self,start,end):\n",
        "    self.start = start\n",
        "    self.end = end\n",
        "\n",
        "  def __iter__(self):\n",
        "    return my_range_iterator(self)\n",
        "\n",
        "\n"
      ],
      "metadata": {
        "id": "AuKE7P-vpAcb"
      },
      "execution_count": 1,
      "outputs": []
    },
    {
      "cell_type": "code",
      "source": [
        "class my_range_iterator:\n",
        "\n",
        "  def __init__(self,iterable_obj):\n",
        "    self.iterable = iterable_obj\n",
        "\n",
        "  def __iter__(self):\n",
        "    return self\n",
        "\n",
        "  def __next__(self):\n",
        "    if self.iterable.start >= self.iterable.end : \n",
        "      raise StopIteration\n",
        "    current = self.iterable.start\n",
        "    self.iterable.start = self.iterable.start + 1\n",
        "    return current\n",
        "    "
      ],
      "metadata": {
        "id": "TSRM5DxhnQzM"
      },
      "execution_count": 4,
      "outputs": []
    },
    {
      "cell_type": "code",
      "source": [
        "for i in my_range(1,11):\n",
        "  print(i)"
      ],
      "metadata": {
        "colab": {
          "base_uri": "https://localhost:8080/"
        },
        "id": "U75q5iKXqQuI",
        "outputId": "506814dc-c857-4213-8646-1683fec26693"
      },
      "execution_count": 5,
      "outputs": [
        {
          "output_type": "stream",
          "name": "stdout",
          "text": [
            "1\n",
            "2\n",
            "3\n",
            "4\n",
            "5\n",
            "6\n",
            "7\n",
            "8\n",
            "9\n",
            "10\n"
          ]
        }
      ]
    }
  ]
}